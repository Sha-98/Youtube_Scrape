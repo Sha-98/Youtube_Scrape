{
 "cells": [
  {
   "cell_type": "code",
   "execution_count": 1,
   "metadata": {},
   "outputs": [
    {
     "name": "stdout",
     "output_type": "stream",
     "text": [
      "Collecting selenium\n",
      "  Using cached selenium-4.11.2-py3-none-any.whl (7.2 MB)\n",
      "Requirement already satisfied: certifi>=2021.10.8 in c:\\users\\shaho\\onedrive\\desktop\\youtube_master\\youtube_scrabber\\venv\\lib\\site-packages (from selenium) (2022.12.7)\n",
      "Requirement already satisfied: urllib3[socks]<3,>=1.26 in c:\\users\\shaho\\onedrive\\desktop\\youtube_master\\youtube_scrabber\\venv\\lib\\site-packages (from selenium) (2.0.7)\n",
      "Collecting trio-websocket~=0.9\n",
      "  Using cached trio_websocket-0.11.1-py3-none-any.whl (17 kB)\n",
      "Collecting trio~=0.17\n",
      "  Using cached trio-0.22.2-py3-none-any.whl (400 kB)\n",
      "Collecting attrs>=20.1.0\n",
      "  Using cached attrs-23.1.0-py3-none-any.whl (61 kB)\n",
      "Collecting sniffio\n",
      "  Using cached sniffio-1.3.0-py3-none-any.whl (10 kB)\n",
      "Collecting sortedcontainers\n",
      "  Using cached sortedcontainers-2.4.0-py2.py3-none-any.whl (29 kB)\n",
      "Collecting cffi>=1.14\n",
      "  Using cached cffi-1.15.1-cp37-cp37m-win_amd64.whl (179 kB)\n",
      "Collecting exceptiongroup>=1.0.0rc9\n",
      "  Using cached exceptiongroup-1.2.0-py3-none-any.whl (16 kB)\n",
      "Requirement already satisfied: idna in c:\\users\\shaho\\onedrive\\desktop\\youtube_master\\youtube_scrabber\\venv\\lib\\site-packages (from trio~=0.17->selenium) (3.6)\n",
      "Collecting outcome\n",
      "  Using cached outcome-1.3.0.post0-py2.py3-none-any.whl (10 kB)\n",
      "Collecting wsproto>=0.14\n",
      "  Using cached wsproto-1.2.0-py3-none-any.whl (24 kB)\n",
      "Collecting pysocks!=1.5.7,<2.0,>=1.5.6\n",
      "  Using cached PySocks-1.7.1-py3-none-any.whl (16 kB)\n",
      "Requirement already satisfied: importlib-metadata in c:\\users\\shaho\\onedrive\\desktop\\youtube_master\\youtube_scrabber\\venv\\lib\\site-packages (from attrs>=20.1.0->trio~=0.17->selenium) (6.7.0)\n",
      "Collecting pycparser\n",
      "  Using cached pycparser-2.21-py2.py3-none-any.whl (118 kB)\n",
      "Collecting h11<1,>=0.9.0\n",
      "  Using cached h11-0.14.0-py3-none-any.whl (58 kB)\n",
      "Requirement already satisfied: typing-extensions in c:\\users\\shaho\\onedrive\\desktop\\youtube_master\\youtube_scrabber\\venv\\lib\\site-packages (from h11<1,>=0.9.0->wsproto>=0.14->trio-websocket~=0.9->selenium) (4.7.1)\n",
      "Requirement already satisfied: zipp>=0.5 in c:\\users\\shaho\\onedrive\\desktop\\youtube_master\\youtube_scrabber\\venv\\lib\\site-packages (from importlib-metadata->attrs>=20.1.0->trio~=0.17->selenium) (3.15.0)\n",
      "Installing collected packages: sortedcontainers, sniffio, pysocks, pycparser, h11, exceptiongroup, wsproto, cffi, attrs, outcome, trio, trio-websocket, selenium\n",
      "Successfully installed attrs-23.1.0 cffi-1.15.1 exceptiongroup-1.2.0 h11-0.14.0 outcome-1.3.0.post0 pycparser-2.21 pysocks-1.7.1 selenium-4.11.2 sniffio-1.3.0 sortedcontainers-2.4.0 trio-0.22.2 trio-websocket-0.11.1 wsproto-1.2.0\n",
      "Note: you may need to restart the kernel to use updated packages.\n"
     ]
    }
   ],
   "source": [
    "\n",
    "pip install selenium"
   ]
  },
  {
   "cell_type": "code",
   "execution_count": 2,
   "metadata": {},
   "outputs": [
    {
     "name": "stdout",
     "output_type": "stream",
     "text": [
      "Collecting bs4\n",
      "  Using cached bs4-0.0.1-py3-none-any.whl\n",
      "Collecting beautifulsoup4\n",
      "  Using cached beautifulsoup4-4.12.2-py3-none-any.whl (142 kB)\n",
      "Collecting soupsieve>1.2\n",
      "  Using cached soupsieve-2.4.1-py3-none-any.whl (36 kB)\n",
      "Installing collected packages: soupsieve, beautifulsoup4, bs4\n",
      "Successfully installed beautifulsoup4-4.12.2 bs4-0.0.1 soupsieve-2.4.1\n",
      "Note: you may need to restart the kernel to use updated packages.\n"
     ]
    }
   ],
   "source": [
    "\n",
    "pip install bs4"
   ]
  },
  {
   "cell_type": "code",
   "execution_count": 3,
   "metadata": {},
   "outputs": [],
   "source": [
    "from selenium import webdriver\n",
    "import pandas as pd\n",
    "from selenium.webdriver.common.by import By\n",
    "from bs4 import BeautifulSoup"
   ]
  },
  {
   "cell_type": "code",
   "execution_count": 4,
   "metadata": {},
   "outputs": [
    {
     "name": "stderr",
     "output_type": "stream",
     "text": [
      "The chromedriver version (120.0.6099.71) detected in PATH at c:\\Users\\shaho\\OneDrive\\Desktop\\New folder\\Youtube\\chromedriver.exe might not be compatible with the detected chrome version (120.0.6099.111); currently, chromedriver 120.0.6099.109 is recommended for chrome 120.*, so it is advised to delete the driver in PATH and retry\n"
     ]
    }
   ],
   "source": [
    "\n",
    "browser = webdriver.Chrome()"
   ]
  },
  {
   "cell_type": "code",
   "execution_count": 5,
   "metadata": {},
   "outputs": [],
   "source": [
    "url = \"https://www.youtube.com/@PW-Foundation/videos\""
   ]
  },
  {
   "cell_type": "code",
   "execution_count": 6,
   "metadata": {},
   "outputs": [],
   "source": [
    "browser.get(url)"
   ]
  },
  {
   "cell_type": "code",
   "execution_count": 7,
   "metadata": {},
   "outputs": [
    {
     "data": {
      "text/plain": [
       "['https://www.youtube.com/watch?v=vawU6R8MaO0',\n",
       " 'https://www.youtube.com/watch?v=roFOxpZtiV4',\n",
       " 'https://www.youtube.com/watch?v=Kga4KUerm3o',\n",
       " 'https://www.youtube.com/watch?v=xn2HskGqSkI',\n",
       " 'https://www.youtube.com/watch?v=JoBEnYLkMDE']"
      ]
     },
     "execution_count": 7,
     "metadata": {},
     "output_type": "execute_result"
    }
   ],
   "source": [
    "#Finding Video Url by using Tag Name\n",
    "links = browser.find_elements(By.TAG_NAME,\"a\")\n",
    "video_urls = []\n",
    "for i in links:\n",
    "    url = i.get_attribute(\"href\")\n",
    "    video_urls.append(url)\n",
    "\n",
    "first_5_video_links = []\n",
    "for url in video_urls:\n",
    "    if url == None or \"/watch?v=\" not in url or url in first_5_video_links:\n",
    "        continue\n",
    "    else:\n",
    "        if len(first_5_video_links) == 5:\n",
    "            break\n",
    "        first_5_video_links.append(url)\n",
    "first_5_video_links"
   ]
  },
  {
   "cell_type": "code",
   "execution_count": 8,
   "metadata": {},
   "outputs": [
    {
     "data": {
      "text/plain": [
       "['NAZISM AND THE RISE OF HITLER in 1 Shot || FULL Chapter Coverage (THEORY+PYQs) || Class 9th Sst',\n",
       " 'NUMBER SYSTEM in 1 Shot || FULL Chapter Coverage (Concepts+PYQs) || Class 9th Maths',\n",
       " 'SOUND OF MUSIC in 1 Shot || FULL Chapter Coverage (THEORY+PYQs) || Class 9th English',\n",
       " 'PHYSICAL FEATURES OF INDIA in 1 Shot || FULL Chapter Coverage (THEORY+PYQs) || Class-9th SST',\n",
       " 'MOTION in 1 Shot || FULL Chapter Coverage (Concepts+PYQs) || Class-9th Science']"
      ]
     },
     "execution_count": 8,
     "metadata": {},
     "output_type": "execute_result"
    }
   ],
   "source": [
    "#Finding Title by using TagName\n",
    "yt_link=browser.find_elements(By.TAG_NAME, \"yt-formatted-string\")\n",
    "link =[]\n",
    "for i in yt_link:\n",
    "    temp=i.text\n",
    "    link.append(temp)\n",
    "link=link[26:]\n",
    "title = []\n",
    "for i in link:\n",
    "    if i == '':\n",
    "        continue\n",
    "    else:\n",
    "        if len(title)==5:\n",
    "            break\n",
    "        title.append(i)\n",
    "\n",
    "title"
   ]
  },
  {
   "cell_type": "code",
   "execution_count": 9,
   "metadata": {},
   "outputs": [
    {
     "data": {
      "text/plain": [
       "['MATTER IN OUR SURROUNDINGS in 1 Shot | FULL Chapter Coverage (Concepts + PYQs) | Class-9th Science',\n",
       " 'POLYNOMIALS in 1 Shot | FULL Chapter Coverage (Concepts + PYQs) | Class 9th Maths',\n",
       " 'NAZISM AND THE RISE OF HITLER in 1 Shot || FULL Chapter Coverage (THEORY+PYQs) || Class 9th Sst',\n",
       " 'NUMBER SYSTEM in 1 Shot || FULL Chapter Coverage (Concepts+PYQs) || Class 9th Maths',\n",
       " 'SOUND OF MUSIC in 1 Shot || FULL Chapter Coverage (THEORY+PYQs) || Class 9th English']"
      ]
     },
     "execution_count": 9,
     "metadata": {},
     "output_type": "execute_result"
    }
   ],
   "source": [
    "#Finding First 5 Title by using XPath\n",
    "you_link = browser.find_elements(By.XPATH,\"//*[@id='video-title']\")\n",
    "title_list = []\n",
    "for i in you_link:\n",
    "    t=i.text\n",
    "    if len(title_list) ==5:\n",
    "        break\n",
    "    title_list.append(t)\n",
    "\n",
    "title_list"
   ]
  },
  {
   "cell_type": "code",
   "execution_count": 10,
   "metadata": {},
   "outputs": [
    {
     "data": {
      "text/plain": [
       "['11K views', '8.3K views', '11K views', '13K views', '7.2K views']"
      ]
     },
     "execution_count": 10,
     "metadata": {},
     "output_type": "execute_result"
    }
   ],
   "source": [
    "views=browser.find_elements(By.XPATH,\"//*[@id='metadata-line']/span[1]\")\n",
    "views_list=[]\n",
    "for i in views:\n",
    "    t=i.text\n",
    "    if len(views_list) ==5:\n",
    "        break\n",
    "    views_list.append(t)\n",
    "\n",
    "views_list"
   ]
  },
  {
   "cell_type": "code",
   "execution_count": 11,
   "metadata": {},
   "outputs": [
    {
     "data": {
      "text/plain": [
       "['1 day ago', '1 day ago', '2 days ago', '3 days ago', '3 days ago']"
      ]
     },
     "execution_count": 11,
     "metadata": {},
     "output_type": "execute_result"
    }
   ],
   "source": [
    "\n",
    "timee = browser.find_elements(By.XPATH,\"//*[@id='metadata-line']/span[2]\")\n",
    "time_list = []\n",
    "for i in timee:\n",
    "    t=i.text\n",
    "    if len(time_list) ==5:\n",
    "        break\n",
    "    time_list.append(t)\n",
    "\n",
    "time_list\n"
   ]
  },
  {
   "cell_type": "code",
   "execution_count": 12,
   "metadata": {},
   "outputs": [
    {
     "data": {
      "text/plain": [
       "['https://i.ytimg.com/vi/vawU6R8MaO0/hqdefault.jpg?sqp=-oaymwEcCNACELwBSFXyq4qpAw4IARUAAIhCGAFwAcABBg==&rs=AOn4CLCJ62zGuT1LgdslRRFdLrUtS7oBxg',\n",
       " 'https://i.ytimg.com/vi/roFOxpZtiV4/hqdefault.jpg?sqp=-oaymwEcCNACELwBSFXyq4qpAw4IARUAAIhCGAFwAcABBg==&rs=AOn4CLCkXzm3ToK2cYZXTIZfpyvZ6QYfNA',\n",
       " 'https://i.ytimg.com/vi/Kga4KUerm3o/hqdefault.jpg?sqp=-oaymwEcCNACELwBSFXyq4qpAw4IARUAAIhCGAFwAcABBg==&rs=AOn4CLD-z3cYXcZWwLEZgIoQ5TdVJRyIlQ',\n",
       " 'https://i.ytimg.com/vi/xn2HskGqSkI/hqdefault.jpg?sqp=-oaymwEcCNACELwBSFXyq4qpAw4IARUAAIhCGAFwAcABBg==&rs=AOn4CLBP2adTHLTA0OmO6Xy3bm6ydwOjOw',\n",
       " 'Url Not found']"
      ]
     },
     "execution_count": 12,
     "metadata": {},
     "output_type": "execute_result"
    }
   ],
   "source": [
    "thumbnail = browser.find_elements(By.XPATH,\"//*[@id='thumbnail']/yt-image/img\")\n",
    "thumbnail_list=[]\n",
    "for i in thumbnail:\n",
    "    t=i.get_attribute(\"src\")\n",
    "    if t == None:\n",
    "        continue\n",
    "    thumbnail_list.append(t)\n",
    "\n",
    "thumbnail_list.append(\"Url Not found\")\n",
    "thumbnail_list"
   ]
  },
  {
   "cell_type": "code",
   "execution_count": 13,
   "metadata": {},
   "outputs": [],
   "source": [
    "import csv"
   ]
  },
  {
   "cell_type": "code",
   "execution_count": 14,
   "metadata": {},
   "outputs": [],
   "source": [
    "reviews=[]\n",
    "for i in range(5):\n",
    "        mydict = {\"VideoLink\": str(first_5_video_links[i]),\"ThumbnailUrl\": str(thumbnail_list[i]),\"VideoTitle\": str(title_list[i]), \"Views\": str(views_list[i]), \"Time of Upload\": str(time_list[i])}\n",
    "        reviews.append(mydict)\n",
    "\n",
    "with open(\"Video_details.csv\", \"w\", newline='', encoding='utf-8') as fw:\n",
    "    headers = [\"VideoLink\",\"ThumbnailUrl\",\"VideoTitle\",\"Views\", \"Time of Upload\"]\n",
    "    writer = csv.DictWriter(fw, fieldnames=headers)\n",
    "    writer.writeheader()\n",
    "    writer.writerows(reviews)"
   ]
  },
  {
   "cell_type": "code",
   "execution_count": 15,
   "metadata": {},
   "outputs": [
    {
     "name": "stdout",
     "output_type": "stream",
     "text": [
      "['VideoLink', 'ThumbnailUrl', 'VideoTitle', 'Views', 'Time of Upload']\n",
      "['https://www.youtube.com/watch?v=vawU6R8MaO0', 'https://i.ytimg.com/vi/vawU6R8MaO0/hqdefault.jpg?sqp=-oaymwEcCNACELwBSFXyq4qpAw4IARUAAIhCGAFwAcABBg==&rs=AOn4CLCJ62zGuT1LgdslRRFdLrUtS7oBxg', 'MATTER IN OUR SURROUNDINGS in 1 Shot | FULL Chapter Coverage (Concepts + PYQs) | Class-9th Science', '11K views', '1 day ago']\n",
      "['https://www.youtube.com/watch?v=roFOxpZtiV4', 'https://i.ytimg.com/vi/roFOxpZtiV4/hqdefault.jpg?sqp=-oaymwEcCNACELwBSFXyq4qpAw4IARUAAIhCGAFwAcABBg==&rs=AOn4CLCkXzm3ToK2cYZXTIZfpyvZ6QYfNA', 'POLYNOMIALS in 1 Shot | FULL Chapter Coverage (Concepts + PYQs) | Class 9th Maths', '8.3K views', '1 day ago']\n",
      "['https://www.youtube.com/watch?v=Kga4KUerm3o', 'https://i.ytimg.com/vi/Kga4KUerm3o/hqdefault.jpg?sqp=-oaymwEcCNACELwBSFXyq4qpAw4IARUAAIhCGAFwAcABBg==&rs=AOn4CLD-z3cYXcZWwLEZgIoQ5TdVJRyIlQ', 'NAZISM AND THE RISE OF HITLER in 1 Shot || FULL Chapter Coverage (THEORY+PYQs) || Class 9th Sst', '11K views', '2 days ago']\n",
      "['https://www.youtube.com/watch?v=xn2HskGqSkI', 'https://i.ytimg.com/vi/xn2HskGqSkI/hqdefault.jpg?sqp=-oaymwEcCNACELwBSFXyq4qpAw4IARUAAIhCGAFwAcABBg==&rs=AOn4CLBP2adTHLTA0OmO6Xy3bm6ydwOjOw', 'NUMBER SYSTEM in 1 Shot || FULL Chapter Coverage (Concepts+PYQs) || Class 9th Maths', '13K views', '3 days ago']\n",
      "['https://www.youtube.com/watch?v=JoBEnYLkMDE', 'Url Not found', 'SOUND OF MUSIC in 1 Shot || FULL Chapter Coverage (THEORY+PYQs) || Class 9th English', '7.2K views', '3 days ago']\n"
     ]
    }
   ],
   "source": [
    "with open(\"Video_details.csv\",'r') as f:\n",
    "    read = csv.reader(f)\n",
    "    for i in read:\n",
    "        print(i)"
   ]
  },
  {
   "cell_type": "code",
   "execution_count": null,
   "metadata": {},
   "outputs": [],
   "source": []
  },
  {
   "cell_type": "code",
   "execution_count": null,
   "metadata": {},
   "outputs": [],
   "source": []
  },
  {
   "cell_type": "code",
   "execution_count": null,
   "metadata": {},
   "outputs": [],
   "source": []
  }
 ],
 "metadata": {
  "kernelspec": {
   "display_name": "Python 3",
   "language": "python",
   "name": "python3"
  },
  "language_info": {
   "codemirror_mode": {
    "name": "ipython",
    "version": 3
   },
   "file_extension": ".py",
   "mimetype": "text/x-python",
   "name": "python",
   "nbconvert_exporter": "python",
   "pygments_lexer": "ipython3",
   "version": "3.7.16"
  }
 },
 "nbformat": 4,
 "nbformat_minor": 2
}
