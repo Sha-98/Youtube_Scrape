{
 "cells": [
  {
   "cell_type": "code",
   "execution_count": 2,
   "metadata": {},
   "outputs": [],
   "source": [
    "from flask import Flask, render_template, request, jsonify\n",
    "from flask_cors import CORS,cross_origin\n",
    "import logging\n",
    "import os\n",
    "import requests\n",
    "import re\n",
    "import pandas as pd"
   ]
  },
  {
   "cell_type": "code",
   "execution_count": 3,
   "metadata": {},
   "outputs": [],
   "source": [
    "input_text = input(\"input youtube channel name\")\n",
    "url = f'https://www.youtube.com/@{input_text}/videos'\n",
    "headers = {\n",
    "'User-Agent': 'Mozilla/5.0 (Windows NT 10.0; rv:91.0) Gecko/20100101 Firefox/91.0',\n",
    "'Accept-Language': 'en-US,en;q=0.9'\n",
    "}\n",
    "\n",
    "\n",
    "response = requests.get(url, headers=headers)\n",
    "response_text = response.text\n",
    "\n",
    "\n",
    "\n",
    "vid_titles = re.findall('\"title\":{\"runs\":\\[{\"text\":\".*?\"', response_text)"
   ]
  },
  {
   "cell_type": "code",
   "execution_count": 4,
   "metadata": {},
   "outputs": [
    {
     "data": {
      "text/plain": [
       "['\"title\":{\"runs\":[{\"text\":\"MATTER IN OUR SURROUNDINGS in 1 Shot | FULL Chapter Coverage (Concepts + PYQs) | Class-9th Science\"',\n",
       " '\"title\":{\"runs\":[{\"text\":\"POLYNOMIALS in 1 Shot | FULL Chapter Coverage (Concepts + PYQs) | Class 9th Maths\"',\n",
       " '\"title\":{\"runs\":[{\"text\":\"NAZISM AND THE RISE OF HITLER in 1 Shot || FULL Chapter Coverage (THEORY+PYQs) || Class 9th Sst\"',\n",
       " '\"title\":{\"runs\":[{\"text\":\"NUMBER SYSTEM in 1 Shot || FULL Chapter Coverage (Concepts+PYQs) || Class 9th Maths\"',\n",
       " '\"title\":{\"runs\":[{\"text\":\"SOUND OF MUSIC in 1 Shot || FULL Chapter Coverage (THEORY+PYQs) || Class 9th English\"',\n",
       " '\"title\":{\"runs\":[{\"text\":\"PHYSICAL FEATURES OF INDIA in 1 Shot || FULL Chapter Coverage (THEORY+PYQs) || Class-9th SST\"',\n",
       " '\"title\":{\"runs\":[{\"text\":\"MOTION in 1 Shot || FULL Chapter Coverage (Concepts+PYQs) || Class-9th Science\"',\n",
       " '\"title\":{\"runs\":[{\"text\":\"THE FUN THEY HAD + THE ROAD N0T TAKEN in 1 Shot || FULL Chapter (THEORY+PYQs) || Class - 9th English\"',\n",
       " '\"title\":{\"runs\":[{\"text\":\"CARBON AND ITS COMPOUND in 140 Minutes | Science Chapter - 4 | Class 10th CBSE Board\"',\n",
       " '\"title\":{\"runs\":[{\"text\":\"PROBABILITY in 60 minutes | Maths Chapter - 15 | Class 10th Boards\"',\n",
       " '\"title\":{\"runs\":[{\"text\":\"STATISTICS in 60 minutes | Maths Chapter - 14 | Class 10th Boards\"',\n",
       " '\"title\":{\"runs\":[{\"text\":\"The G.O.A.T of SST is Back !! WARRRIOR Class-10th Boards 💯\"',\n",
       " '\"title\":{\"runs\":[{\"text\":\"SURFACE AREAS AND VOLUMES in 60 minutes | Maths Chapter 13 | Class 10th Boards\"',\n",
       " '\"title\":{\"runs\":[{\"text\":\"WARRIOR Batch क्या है? \\U0001fae2  जानते हैं Shaam @5pm | Class 10th BOARDS 💯\"',\n",
       " '\"title\":{\"runs\":[{\"text\":\"WARRIOR Batch में ऐसा क्या होने वाला है?💥 !! Class-10th Boards\"',\n",
       " '\"title\":{\"runs\":[{\"text\":\"The Revolution Begins !! WARRIOR For Class-10th Boards 🔥\"',\n",
       " '\"title\":{\"runs\":[{\"text\":\"Finally, The WAIT IS OVER !! Most Powerful LIVE Batch for Class 10th Students 🔥#Warrior\"',\n",
       " '\"title\":{\"runs\":[{\"text\":\"HEREDITY in 45 Minutes | Science Chapter 9  |Class 10th CBSE Borad\"',\n",
       " '\"title\":{\"runs\":[{\"text\":\"AREA RELATED TO CIRCLES  in 60 Minutes | Maths Chapter 12 | Class 10th CBSE Board\"',\n",
       " '\"title\":{\"runs\":[{\"text\":\"CIRCLES  in 60 Minutes | Maths Chapter 10  | Class 10th CBSE Board\"',\n",
       " '\"title\":{\"runs\":[{\"text\":\"WARRIOR Drop 1 | Class 10th Boards | FREE OF COST - Coming Soon !!\"',\n",
       " '\"title\":{\"runs\":[{\"text\":\"SOME APPLICATIONS OF TRIGONOMETRY  in 60 Minutes | Maths Chapter 9 | Class 10th CBSE Board\"',\n",
       " '\"title\":{\"runs\":[{\"text\":\"INTRODUCTION TO TRIGONOMETRY in 60 Minutes | Maths Chapter 8 | Class 10th CBSE Board\"',\n",
       " '\"title\":{\"runs\":[{\"text\":\"OUR ENVIRONMENT in 30 Minutes | Science Chapter 13 | Class 10th CBSE Board\"',\n",
       " '\"title\":{\"runs\":[{\"text\":\"Biggest SURPRISE For Class 9th \\\\u0026 10th Students @free 🎯 🤩\"',\n",
       " '\"title\":{\"runs\":[{\"text\":\"MINERALS AND ENERGY RESOURCES in 30 Minutes | Geography Chapter 5 | Class 10th CBSE Board\"',\n",
       " '\"title\":{\"runs\":[{\"text\":\"COORDINATE GEOMETRY in 60 Minutes | Maths Chapter 7 | Class 10th CBSE Board\"',\n",
       " '\"title\":{\"runs\":[{\"text\":\"CONSUMER RIGHTS in 35 Minutes | Economics Chapter 5 | Class 10th CBSE Board\"',\n",
       " '\"title\":{\"runs\":[{\"text\":\"PRE-BOARDS  की तैयारी कैसे करें? 😱 | Tips \\\\u0026 Tricks for Class 10th Students 🎯\"',\n",
       " '\"title\":{\"runs\":[{\"text\":\"SOURCES OF ENERGY in 30 Minutes | Science Chapter 14 | Class 10th CBSE Board\"',\n",
       " '\"title\":{\"runs\":[{\"text\":\"Keyboard shortcuts\"',\n",
       " '\"title\":{\"runs\":[{\"text\":\"Playback\"',\n",
       " '\"title\":{\"runs\":[{\"text\":\"General\"',\n",
       " '\"title\":{\"runs\":[{\"text\":\"Subtitles and closed captions\"',\n",
       " '\"title\":{\"runs\":[{\"text\":\"Spherical Videos\"']"
      ]
     },
     "execution_count": 4,
     "metadata": {},
     "output_type": "execute_result"
    }
   ],
   "source": [
    "vid_titles"
   ]
  },
  {
   "cell_type": "code",
   "execution_count": 5,
   "metadata": {},
   "outputs": [
    {
     "data": {
      "text/plain": [
       "['https://i.ytimg.com/vi/vawU6R8MaO0/hqdefault.jpg',\n",
       " 'https://i.ytimg.com/vi/vawU6R8MaO0/hqdefault.jpg',\n",
       " 'https://i.ytimg.com/vi/vawU6R8MaO0/hqdefault.jpg',\n",
       " 'https://i.ytimg.com/vi/vawU6R8MaO0/hqdefault.jpg',\n",
       " 'https://i.ytimg.com/vi/roFOxpZtiV4/hqdefault.jpg',\n",
       " 'https://i.ytimg.com/vi/roFOxpZtiV4/hqdefault.jpg',\n",
       " 'https://i.ytimg.com/vi/roFOxpZtiV4/hqdefault.jpg',\n",
       " 'https://i.ytimg.com/vi/roFOxpZtiV4/hqdefault.jpg',\n",
       " 'https://i.ytimg.com/vi/Kga4KUerm3o/hqdefault.jpg',\n",
       " 'https://i.ytimg.com/vi/Kga4KUerm3o/hqdefault.jpg',\n",
       " 'https://i.ytimg.com/vi/Kga4KUerm3o/hqdefault.jpg',\n",
       " 'https://i.ytimg.com/vi/Kga4KUerm3o/hqdefault.jpg',\n",
       " 'https://i.ytimg.com/vi/xn2HskGqSkI/hqdefault.jpg',\n",
       " 'https://i.ytimg.com/vi/xn2HskGqSkI/hqdefault.jpg',\n",
       " 'https://i.ytimg.com/vi/xn2HskGqSkI/hqdefault.jpg',\n",
       " 'https://i.ytimg.com/vi/xn2HskGqSkI/hqdefault.jpg',\n",
       " 'https://i.ytimg.com/vi/JoBEnYLkMDE/hqdefault.jpg',\n",
       " 'https://i.ytimg.com/vi/JoBEnYLkMDE/hqdefault.jpg',\n",
       " 'https://i.ytimg.com/vi/JoBEnYLkMDE/hqdefault.jpg',\n",
       " 'https://i.ytimg.com/vi/JoBEnYLkMDE/hqdefault.jpg',\n",
       " 'https://i.ytimg.com/vi/NcnFp3gh_u8/hqdefault.jpg',\n",
       " 'https://i.ytimg.com/vi/NcnFp3gh_u8/hqdefault.jpg',\n",
       " 'https://i.ytimg.com/vi/NcnFp3gh_u8/hqdefault.jpg',\n",
       " 'https://i.ytimg.com/vi/NcnFp3gh_u8/hqdefault.jpg',\n",
       " 'https://i.ytimg.com/vi/Msy44HhRGRw/hqdefault.jpg',\n",
       " 'https://i.ytimg.com/vi/Msy44HhRGRw/hqdefault.jpg',\n",
       " 'https://i.ytimg.com/vi/Msy44HhRGRw/hqdefault.jpg',\n",
       " 'https://i.ytimg.com/vi/Msy44HhRGRw/hqdefault.jpg',\n",
       " 'https://i.ytimg.com/vi/hyWXw83I0pc/hqdefault.jpg',\n",
       " 'https://i.ytimg.com/vi/hyWXw83I0pc/hqdefault.jpg',\n",
       " 'https://i.ytimg.com/vi/hyWXw83I0pc/hqdefault.jpg',\n",
       " 'https://i.ytimg.com/vi/hyWXw83I0pc/hqdefault.jpg',\n",
       " 'https://i.ytimg.com/vi/kv96sQulwZc/hqdefault.jpg',\n",
       " 'https://i.ytimg.com/vi/kv96sQulwZc/hqdefault.jpg',\n",
       " 'https://i.ytimg.com/vi/kv96sQulwZc/hqdefault.jpg',\n",
       " 'https://i.ytimg.com/vi/kv96sQulwZc/hqdefault.jpg',\n",
       " 'https://i.ytimg.com/vi/dxD8krpKP-8/hqdefault.jpg',\n",
       " 'https://i.ytimg.com/vi/dxD8krpKP-8/hqdefault.jpg',\n",
       " 'https://i.ytimg.com/vi/dxD8krpKP-8/hqdefault.jpg',\n",
       " 'https://i.ytimg.com/vi/dxD8krpKP-8/hqdefault.jpg',\n",
       " 'https://i.ytimg.com/vi/Z0xlPJtojLs/hqdefault.jpg',\n",
       " 'https://i.ytimg.com/vi/Z0xlPJtojLs/hqdefault.jpg',\n",
       " 'https://i.ytimg.com/vi/Z0xlPJtojLs/hqdefault.jpg',\n",
       " 'https://i.ytimg.com/vi/Z0xlPJtojLs/hqdefault.jpg',\n",
       " 'https://i.ytimg.com/vi/UO2QcKq-jv0/hqdefault.jpg',\n",
       " 'https://i.ytimg.com/vi/UO2QcKq-jv0/hqdefault.jpg',\n",
       " 'https://i.ytimg.com/vi/UO2QcKq-jv0/hqdefault.jpg',\n",
       " 'https://i.ytimg.com/vi/UO2QcKq-jv0/hqdefault.jpg',\n",
       " 'https://i.ytimg.com/vi/DEDdCk1gBRk/hqdefault.jpg',\n",
       " 'https://i.ytimg.com/vi/DEDdCk1gBRk/hqdefault.jpg',\n",
       " 'https://i.ytimg.com/vi/DEDdCk1gBRk/hqdefault.jpg',\n",
       " 'https://i.ytimg.com/vi/DEDdCk1gBRk/hqdefault.jpg',\n",
       " 'https://i.ytimg.com/vi/0mEBbPkb2eQ/hqdefault.jpg',\n",
       " 'https://i.ytimg.com/vi/0mEBbPkb2eQ/hqdefault.jpg',\n",
       " 'https://i.ytimg.com/vi/0mEBbPkb2eQ/hqdefault.jpg',\n",
       " 'https://i.ytimg.com/vi/0mEBbPkb2eQ/hqdefault.jpg',\n",
       " 'https://i.ytimg.com/vi/YKrmQkDhvjA/hqdefault.jpg',\n",
       " 'https://i.ytimg.com/vi/YKrmQkDhvjA/hqdefault.jpg',\n",
       " 'https://i.ytimg.com/vi/YKrmQkDhvjA/hqdefault.jpg',\n",
       " 'https://i.ytimg.com/vi/YKrmQkDhvjA/hqdefault.jpg',\n",
       " 'https://i.ytimg.com/vi/Zuk6hSgdsQI/hqdefault.jpg',\n",
       " 'https://i.ytimg.com/vi/Zuk6hSgdsQI/hqdefault.jpg',\n",
       " 'https://i.ytimg.com/vi/Zuk6hSgdsQI/hqdefault.jpg',\n",
       " 'https://i.ytimg.com/vi/Zuk6hSgdsQI/hqdefault.jpg',\n",
       " 'https://i.ytimg.com/vi/V_xsifaP1m4/hqdefault.jpg',\n",
       " 'https://i.ytimg.com/vi/V_xsifaP1m4/hqdefault.jpg',\n",
       " 'https://i.ytimg.com/vi/V_xsifaP1m4/hqdefault.jpg',\n",
       " 'https://i.ytimg.com/vi/V_xsifaP1m4/hqdefault.jpg',\n",
       " 'https://i.ytimg.com/vi/OA3RgocBJHI/hqdefault.jpg',\n",
       " 'https://i.ytimg.com/vi/OA3RgocBJHI/hqdefault.jpg',\n",
       " 'https://i.ytimg.com/vi/OA3RgocBJHI/hqdefault.jpg',\n",
       " 'https://i.ytimg.com/vi/OA3RgocBJHI/hqdefault.jpg',\n",
       " 'https://i.ytimg.com/vi/zJyx_KYmg18/hqdefault.jpg',\n",
       " 'https://i.ytimg.com/vi/zJyx_KYmg18/hqdefault.jpg',\n",
       " 'https://i.ytimg.com/vi/zJyx_KYmg18/hqdefault.jpg',\n",
       " 'https://i.ytimg.com/vi/zJyx_KYmg18/hqdefault.jpg',\n",
       " 'https://i.ytimg.com/vi/v8znciuJuew/hqdefault.jpg',\n",
       " 'https://i.ytimg.com/vi/v8znciuJuew/hqdefault.jpg',\n",
       " 'https://i.ytimg.com/vi/v8znciuJuew/hqdefault.jpg',\n",
       " 'https://i.ytimg.com/vi/v8znciuJuew/hqdefault.jpg',\n",
       " 'https://i.ytimg.com/vi/tMyLWMxnCus/hqdefault.jpg',\n",
       " 'https://i.ytimg.com/vi/tMyLWMxnCus/hqdefault.jpg',\n",
       " 'https://i.ytimg.com/vi/tMyLWMxnCus/hqdefault.jpg',\n",
       " 'https://i.ytimg.com/vi/tMyLWMxnCus/hqdefault.jpg',\n",
       " 'https://i.ytimg.com/vi/PujmnI1ncjc/hqdefault.jpg',\n",
       " 'https://i.ytimg.com/vi/PujmnI1ncjc/hqdefault.jpg',\n",
       " 'https://i.ytimg.com/vi/PujmnI1ncjc/hqdefault.jpg',\n",
       " 'https://i.ytimg.com/vi/PujmnI1ncjc/hqdefault.jpg',\n",
       " 'https://i.ytimg.com/vi/C5-ipvDYEdE/hqdefault.jpg',\n",
       " 'https://i.ytimg.com/vi/C5-ipvDYEdE/hqdefault.jpg',\n",
       " 'https://i.ytimg.com/vi/C5-ipvDYEdE/hqdefault.jpg',\n",
       " 'https://i.ytimg.com/vi/C5-ipvDYEdE/hqdefault.jpg',\n",
       " 'https://i.ytimg.com/vi/5QNlFSJ7yo0/hqdefault.jpg',\n",
       " 'https://i.ytimg.com/vi/5QNlFSJ7yo0/hqdefault.jpg',\n",
       " 'https://i.ytimg.com/vi/5QNlFSJ7yo0/hqdefault.jpg',\n",
       " 'https://i.ytimg.com/vi/5QNlFSJ7yo0/hqdefault.jpg',\n",
       " 'https://i.ytimg.com/vi/yW28jdDolug/hqdefault.jpg',\n",
       " 'https://i.ytimg.com/vi/yW28jdDolug/hqdefault.jpg',\n",
       " 'https://i.ytimg.com/vi/yW28jdDolug/hqdefault.jpg',\n",
       " 'https://i.ytimg.com/vi/yW28jdDolug/hqdefault.jpg',\n",
       " 'https://i.ytimg.com/vi/IVIL5blWJps/hqdefault.jpg',\n",
       " 'https://i.ytimg.com/vi/IVIL5blWJps/hqdefault.jpg',\n",
       " 'https://i.ytimg.com/vi/IVIL5blWJps/hqdefault.jpg',\n",
       " 'https://i.ytimg.com/vi/IVIL5blWJps/hqdefault.jpg',\n",
       " 'https://i.ytimg.com/vi/X__dNCg7OsA/hqdefault.jpg',\n",
       " 'https://i.ytimg.com/vi/X__dNCg7OsA/hqdefault.jpg',\n",
       " 'https://i.ytimg.com/vi/X__dNCg7OsA/hqdefault.jpg',\n",
       " 'https://i.ytimg.com/vi/X__dNCg7OsA/hqdefault.jpg',\n",
       " 'https://i.ytimg.com/vi/zRrPJxMT8R0/hqdefault.jpg',\n",
       " 'https://i.ytimg.com/vi/zRrPJxMT8R0/hqdefault.jpg',\n",
       " 'https://i.ytimg.com/vi/zRrPJxMT8R0/hqdefault.jpg',\n",
       " 'https://i.ytimg.com/vi/zRrPJxMT8R0/hqdefault.jpg',\n",
       " 'https://i.ytimg.com/vi/_yd3jVElO_g/hqdefault.jpg',\n",
       " 'https://i.ytimg.com/vi/_yd3jVElO_g/hqdefault.jpg',\n",
       " 'https://i.ytimg.com/vi/_yd3jVElO_g/hqdefault.jpg',\n",
       " 'https://i.ytimg.com/vi/_yd3jVElO_g/hqdefault.jpg',\n",
       " 'https://i.ytimg.com/vi/WuerM0oWIqk/hqdefault.jpg',\n",
       " 'https://i.ytimg.com/vi/WuerM0oWIqk/hqdefault.jpg',\n",
       " 'https://i.ytimg.com/vi/WuerM0oWIqk/hqdefault.jpg',\n",
       " 'https://i.ytimg.com/vi/WuerM0oWIqk/hqdefault.jpg']"
      ]
     },
     "execution_count": 5,
     "metadata": {},
     "output_type": "execute_result"
    }
   ],
   "source": [
    "vid_thumbnails = re.findall(r\"https://i.ytimg.com/vi/[A-Za-z0-9_-]{11}/[A-Za-z0-9_]{9}.jpg\", response_text)\n",
    "vid_thumbnails"
   ]
  },
  {
   "cell_type": "code",
   "execution_count": 6,
   "metadata": {},
   "outputs": [
    {
     "data": {
      "text/plain": [
       "['watch?v=vawU6R8MaO0',\n",
       " 'watch?v=roFOxpZtiV4',\n",
       " 'watch?v=Kga4KUerm3o',\n",
       " 'watch?v=xn2HskGqSkI',\n",
       " 'watch?v=JoBEnYLkMDE',\n",
       " 'watch?v=NcnFp3gh_u8',\n",
       " 'watch?v=Msy44HhRGRw',\n",
       " 'watch?v=hyWXw83I0pc',\n",
       " 'watch?v=kv96sQulwZc',\n",
       " 'watch?v=dxD8krpKP-8',\n",
       " 'watch?v=Z0xlPJtojLs',\n",
       " 'watch?v=UO2QcKq-jv0',\n",
       " 'watch?v=DEDdCk1gBRk',\n",
       " 'watch?v=0mEBbPkb2eQ',\n",
       " 'watch?v=YKrmQkDhvjA',\n",
       " 'watch?v=Zuk6hSgdsQI',\n",
       " 'watch?v=V_xsifaP1m4',\n",
       " 'watch?v=OA3RgocBJHI',\n",
       " 'watch?v=zJyx_KYmg18',\n",
       " 'watch?v=v8znciuJuew',\n",
       " 'watch?v=tMyLWMxnCus',\n",
       " 'watch?v=PujmnI1ncjc',\n",
       " 'watch?v=C5-ipvDYEdE',\n",
       " 'watch?v=5QNlFSJ7yo0',\n",
       " 'watch?v=yW28jdDolug',\n",
       " 'watch?v=IVIL5blWJps',\n",
       " 'watch?v=X__dNCg7OsA',\n",
       " 'watch?v=zRrPJxMT8R0',\n",
       " 'watch?v=_yd3jVElO_g',\n",
       " 'watch?v=WuerM0oWIqk']"
      ]
     },
     "execution_count": 6,
     "metadata": {},
     "output_type": "execute_result"
    }
   ],
   "source": [
    "vid_links = re.findall(r\"watch\\?v=[A-Za-z0-9_-]{11}\", response_text)\n",
    "vid_links"
   ]
  },
  {
   "cell_type": "code",
   "execution_count": 7,
   "metadata": {},
   "outputs": [
    {
     "data": {
      "text/plain": [
       "re.compile(r'[0-9]+(\\.[0-9]+)?[a-zA-Z]*K views', re.UNICODE)"
      ]
     },
     "execution_count": 7,
     "metadata": {},
     "output_type": "execute_result"
    }
   ],
   "source": [
    "pattern3 = re.compile(r\"[0-9]+(\\.[0-9]+)?[a-zA-Z]*K views\")  # view count\n",
    "pattern3"
   ]
  },
  {
   "cell_type": "code",
   "execution_count": 8,
   "metadata": {},
   "outputs": [
    {
     "data": {
      "text/plain": [
       "re.compile(r'\\d+ (minutes|hours|hour|days|day|weeks|week|years|year) ago',\n",
       "re.UNICODE)"
      ]
     },
     "execution_count": 8,
     "metadata": {},
     "output_type": "execute_result"
    }
   ],
   "source": [
    "pattern4 = re.compile(r\"\\d+ (minutes|hours|hour|days|day|weeks|week|years|year) ago\")  # vedio age\n",
    "pattern4"
   ]
  },
  {
   "cell_type": "code",
   "execution_count": 9,
   "metadata": {},
   "outputs": [],
   "source": [
    "matches1 = pattern3.finditer(response_text)\n",
    "matches2 = pattern4.finditer(response_text)"
   ]
  },
  {
   "cell_type": "code",
   "execution_count": 10,
   "metadata": {},
   "outputs": [],
   "source": [
    "vid_viewcounts=[]\n",
    "vid_ages=[]\n",
    "count = 0\n",
    "for match1,match2 in zip(matches1,matches2):\n",
    "    vid_ages.append(match2[0])\n",
    "    vid_viewcounts.append(match1[0])"
   ]
  },
  {
   "cell_type": "code",
   "execution_count": 11,
   "metadata": {},
   "outputs": [
    {
     "data": {
      "text/plain": [
       "[{'title': 'MATTER IN OUR SURROUNDINGS in 1 Shot | FULL Chapter Coverage (Concepts + PYQs) | Class-9th Science',\n",
       "  'thumbnail': 'https://i.ytimg.com/vi/vawU6R8MaO0/hqdefault.jpg',\n",
       "  'link': 'https://www.youtube.com/watch?v=vawU6R8MaO0',\n",
       "  'viewcount': '11K views',\n",
       "  'age': '1 day ago'},\n",
       " {'title': 'POLYNOMIALS in 1 Shot | FULL Chapter Coverage (Concepts + PYQs) | Class 9th Maths',\n",
       "  'thumbnail': 'https://i.ytimg.com/vi/roFOxpZtiV4/hqdefault.jpg',\n",
       "  'link': 'https://www.youtube.com/watch?v=roFOxpZtiV4',\n",
       "  'viewcount': '8.3K views',\n",
       "  'age': '1 day ago'},\n",
       " {'title': 'NAZISM AND THE RISE OF HITLER in 1 Shot || FULL Chapter Coverage (THEORY+PYQs) || Class 9th Sst',\n",
       "  'thumbnail': 'https://i.ytimg.com/vi/Kga4KUerm3o/hqdefault.jpg',\n",
       "  'link': 'https://www.youtube.com/watch?v=Kga4KUerm3o',\n",
       "  'viewcount': '11K views',\n",
       "  'age': '2 days ago'},\n",
       " {'title': 'NUMBER SYSTEM in 1 Shot || FULL Chapter Coverage (Concepts+PYQs) || Class 9th Maths',\n",
       "  'thumbnail': 'https://i.ytimg.com/vi/xn2HskGqSkI/hqdefault.jpg',\n",
       "  'link': 'https://www.youtube.com/watch?v=xn2HskGqSkI',\n",
       "  'viewcount': '13K views',\n",
       "  'age': '3 days ago'},\n",
       " {'title': 'SOUND OF MUSIC in 1 Shot || FULL Chapter Coverage (THEORY+PYQs) || Class 9th English',\n",
       "  'thumbnail': 'https://i.ytimg.com/vi/JoBEnYLkMDE/hqdefault.jpg',\n",
       "  'link': 'https://www.youtube.com/watch?v=JoBEnYLkMDE',\n",
       "  'viewcount': '7.2K views',\n",
       "  'age': '3 days ago'},\n",
       " {'title': 'PHYSICAL FEATURES OF INDIA in 1 Shot || FULL Chapter Coverage (THEORY+PYQs) || Class-9th SST',\n",
       "  'thumbnail': 'https://i.ytimg.com/vi/NcnFp3gh_u8/hqdefault.jpg',\n",
       "  'link': 'https://www.youtube.com/watch?v=NcnFp3gh_u8',\n",
       "  'viewcount': '11K views',\n",
       "  'age': '4 days ago'},\n",
       " {'title': 'MOTION in 1 Shot || FULL Chapter Coverage (Concepts+PYQs) || Class-9th Science',\n",
       "  'thumbnail': 'https://i.ytimg.com/vi/Msy44HhRGRw/hqdefault.jpg',\n",
       "  'link': 'https://www.youtube.com/watch?v=Msy44HhRGRw',\n",
       "  'viewcount': '29K views',\n",
       "  'age': '5 days ago'},\n",
       " {'title': 'THE FUN THEY HAD + THE ROAD N0T TAKEN in 1 Shot || FULL Chapter (THEORY+PYQs) || Class - 9th English',\n",
       "  'thumbnail': 'https://i.ytimg.com/vi/hyWXw83I0pc/hqdefault.jpg',\n",
       "  'link': 'https://www.youtube.com/watch?v=hyWXw83I0pc',\n",
       "  'viewcount': '13K views',\n",
       "  'age': '5 days ago'},\n",
       " {'title': 'CARBON AND ITS COMPOUND in 140 Minutes | Science Chapter - 4 | Class 10th CBSE Board',\n",
       "  'thumbnail': 'https://i.ytimg.com/vi/kv96sQulwZc/hqdefault.jpg',\n",
       "  'link': 'https://www.youtube.com/watch?v=kv96sQulwZc',\n",
       "  'viewcount': '141K views',\n",
       "  'age': '2 weeks ago'},\n",
       " {'title': 'PROBABILITY in 60 minutes | Maths Chapter - 15 | Class 10th Boards',\n",
       "  'thumbnail': 'https://i.ytimg.com/vi/dxD8krpKP-8/hqdefault.jpg',\n",
       "  'link': 'https://www.youtube.com/watch?v=dxD8krpKP-8',\n",
       "  'viewcount': '16K views',\n",
       "  'age': '2 weeks ago'}]"
      ]
     },
     "execution_count": 11,
     "metadata": {},
     "output_type": "execute_result"
    }
   ],
   "source": [
    "titles = vid_titles[0:10]\n",
    "thumbnails = list(dict.fromkeys(vid_thumbnails))\n",
    "links = vid_links[0:10]\n",
    "viewcounts=vid_viewcounts[0:20:2]\n",
    "ages=vid_ages[0:20:2]\n",
    "\n",
    "details_list=[]\n",
    "\n",
    "for title,thumbnail,link,viewcount,age in zip(titles,thumbnails,links,viewcounts,ages):\n",
    "    details_dict={\n",
    "    \"title\":title.split('\"')[-2], \"thumbnail\": thumbnail, \"link\": \"https://www.youtube.com/\"+link,\n",
    "    \"viewcount\": viewcount, \"age\": age\n",
    "    }\n",
    "    details_list.append(details_dict)\n",
    "\n",
    "\n",
    "\n",
    "details_list"
   ]
  },
  {
   "cell_type": "code",
   "execution_count": 13,
   "metadata": {},
   "outputs": [],
   "source": [
    "df = pd.DataFrame(details_list)\n",
    "df.to_csv('YT_Data.csv', index=False)"
   ]
  }
 ],
 "metadata": {
  "kernelspec": {
   "display_name": "Python 3",
   "language": "python",
   "name": "python3"
  },
  "language_info": {
   "codemirror_mode": {
    "name": "ipython",
    "version": 3
   },
   "file_extension": ".py",
   "mimetype": "text/x-python",
   "name": "python",
   "nbconvert_exporter": "python",
   "pygments_lexer": "ipython3",
   "version": "3.7.16"
  }
 },
 "nbformat": 4,
 "nbformat_minor": 2
}
